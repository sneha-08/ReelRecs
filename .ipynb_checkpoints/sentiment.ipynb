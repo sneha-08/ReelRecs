{
  "cells": [
    {
      "cell_type": "markdown",
      "metadata": {
        "id": "935Bjbwom4ru"
      },
      "source": [
        "## Data collection"
      ]
    },
    {
      "cell_type": "code",
      "execution_count": null,
      "metadata": {
        "id": "pno9M7CTm4r2"
      },
      "outputs": [],
      "source": [
        "import pandas as pd\n",
        "import numpy as np\n",
        "import nltk\n",
        "from nltk.corpus import stopwords\n",
        "from sklearn.feature_extraction.text import TfidfVectorizer\n",
        "from sklearn.model_selection import train_test_split\n",
        "from sklearn import naive_bayes\n",
        "from sklearn.metrics import roc_auc_score,accuracy_score\n",
        "from nltk.stem import WordNetLemmatizer\n",
        "import pickle\n",
        "import spacy\n",
        "import en_core_web_sm\n",
        "import pickle"
      ]
    },
    {
      "cell_type": "code",
      "execution_count": null,
      "metadata": {
        "id": "baj3mUz08r5V"
      },
      "outputs": [],
      "source": [
        "nlp = en_core_web_sm.load()"
      ]
    },
    {
      "cell_type": "code",
      "execution_count": null,
      "metadata": {
        "id": "vUbbDA-cm4r4"
      },
      "outputs": [],
      "source": [
        "dataset = pd.read_csv('reviews.txt',sep = '\\t', names =['Reviews','Comments'])"
      ]
    },
    {
      "cell_type": "markdown",
      "metadata": {
        "id": "N4KhgzJwm4r6"
      },
      "source": [
        "## Data Preprocessing"
      ]
    },
    {
      "cell_type": "code",
      "execution_count": null,
      "metadata": {
        "id": "_auhRG2Um4r7"
      },
      "outputs": [],
      "source": [
        "import nltk"
      ]
    },
    {
      "cell_type": "code",
      "execution_count": null,
      "metadata": {
        "colab": {
          "base_uri": "https://localhost:8080/"
        },
        "id": "hVffBrvEm4r7",
        "outputId": "0498e2ea-0264-4055-8139-1ebaa2ba06d1"
      },
      "outputs": [
        {
          "name": "stderr",
          "output_type": "stream",
          "text": [
            "[nltk_data] Downloading package stopwords to /root/nltk_data...\n",
            "[nltk_data]   Package stopwords is already up-to-date!\n",
            "[nltk_data] Downloading package wordnet to /root/nltk_data...\n",
            "[nltk_data]   Package wordnet is already up-to-date!\n"
          ]
        },
        {
          "data": {
            "text/plain": [
              "True"
            ]
          },
          "execution_count": 73,
          "metadata": {},
          "output_type": "execute_result"
        }
      ],
      "source": [
        "nltk.download('stopwords')\n",
        "nltk.download('wordnet')"
      ]
    },
    {
      "cell_type": "code",
      "execution_count": null,
      "metadata": {
        "id": "mjuFwwowm4r8"
      },
      "outputs": [],
      "source": [
        "stop_words = set(stopwords.words('english'))\n",
        "lemmatizer = WordNetLemmatizer()\n",
        "\n",
        "def preprocess(text):\n",
        "    # remove punctuations and convert to lowercase\n",
        "    text = ''.join(c for c in text if c.isalnum() or c == ' ')\n",
        "    text = text.lower()\n",
        "\n",
        "    # remove stop words\n",
        "    text = ' '.join(word for word in text.split() if word not in stop_words)\n",
        "\n",
        "    # lemmatize the words\n",
        "    text = ' '.join(lemmatizer.lemmatize(word) for word in text.split())\n",
        "\n",
        "    return text\n",
        "\n",
        "dataset['Comments'] = dataset['Comments'].apply(preprocess)"
      ]
    },
    {
      "cell_type": "markdown",
      "metadata": {
        "id": "SlYcF9p67rJj"
      },
      "source": [
        "## Coreference resolution"
      ]
    },
    {
      "cell_type": "code",
      "execution_count": null,
      "metadata": {
        "id": "LtzJTELF8o-n"
      },
      "outputs": [],
      "source": [
        "def resolve_coreferences(doc):\n",
        "    # Resolve coreferences using spaCy\n",
        "    for token in doc:\n",
        "        if token.dep_ == 'pron' and token._.in_coref:\n",
        "            for cluster in token._.coref_clusters:\n",
        "                if cluster.main.text.lower() != token.text.lower():\n",
        "                    token.sent.merge(cluster.main)\n",
        "    return doc"
      ]
    },
    {
      "cell_type": "code",
      "execution_count": null,
      "metadata": {
        "id": "PBCkt9OO9DiY"
      },
      "outputs": [],
      "source": [
        "dataset['Comments'] = dataset['Comments'].apply(nlp)\n",
        "dataset['Comments'] = dataset['Comments'].apply(resolve_coreferences)"
      ]
    },
    {
      "cell_type": "code",
      "execution_count": null,
      "metadata": {
        "id": "_SuGEBwP9LSo"
      },
      "outputs": [],
      "source": [
        "dataset['Comments'] = dataset['Comments'].apply(lambda doc: ' '.join([token.text for token in doc]))\n"
      ]
    },
    {
      "cell_type": "markdown",
      "metadata": {
        "id": "1IvuCiabm4r9"
      },
      "source": [
        "## Text classification"
      ]
    },
    {
      "cell_type": "code",
      "execution_count": 92,
      "metadata": {
        "id": "KCk2CEyqm4r-"
      },
      "outputs": [],
      "source": [
        "from sklearn.naive_bayes import MultinomialNB\n",
        "from sklearn.feature_extraction.text import CountVectorizer\n",
        "from sklearn.metrics import classification_report"
      ]
    },
    {
      "cell_type": "code",
      "execution_count": null,
      "metadata": {
        "colab": {
          "base_uri": "https://localhost:8080/"
        },
        "id": "wsTIZLXqm4r-",
        "outputId": "68b40a7c-acf1-4ece-e4e6-4c02fbdc5c8e"
      },
      "outputs": [
        {
          "name": "stdout",
          "output_type": "stream",
          "text": [
            "Accuracy: 0.9790462427745664\n"
          ]
        }
      ],
      "source": [
        "\n",
        "# Split dataset into training and testing sets\n",
        "X_train, X_test, y_train, y_test = train_test_split(dataset['Comments'], dataset['Reviews'], test_size=0.2, random_state=42)\n",
        "\n",
        "# Create bag of words representation\n",
        "vectorizer = CountVectorizer()\n",
        "X_train_bow = vectorizer.fit_transform(X_train)\n",
        "X_test_bow = vectorizer.transform(X_test)\n",
        "\n",
        "# Train Naive Bayes model\n",
        "nb_classifier = MultinomialNB()\n",
        "nb_classifier.fit(X_train_bow, y_train)\n",
        "\n",
        "# Predict on test set\n",
        "y_pred = nb_classifier.predict(X_test_bow)\n",
        "\n",
        "# Calculate accuracy\n",
        "accuracy = accuracy_score(y_test, y_pred)\n",
        "print(\"Accuracy:\", accuracy)"
      ]
    },
    {
      "cell_type": "code",
      "execution_count": 93,
      "metadata": {
        "colab": {
          "base_uri": "https://localhost:8080/"
        },
        "id": "MZrvbMerKRKv",
        "outputId": "20217b4c-c73f-426d-ebe2-38d7bd01bdc5"
      },
      "outputs": [
        {
          "name": "stdout",
          "output_type": "stream",
          "text": [
            "              precision    recall  f1-score   support\n",
            "\n",
            "           0       0.99      0.96      0.97       580\n",
            "           1       0.97      0.99      0.98       804\n",
            "\n",
            "    accuracy                           0.98      1384\n",
            "   macro avg       0.98      0.98      0.98      1384\n",
            "weighted avg       0.98      0.98      0.98      1384\n",
            "\n"
          ]
        }
      ],
      "source": [
        "print(classification_report(y_test, y_pred))"
      ]
    },
    {
      "cell_type": "markdown",
      "metadata": {
        "id": "KUgpgAYAm4r_"
      },
      "source": [
        "## Clustering"
      ]
    },
    {
      "cell_type": "code",
      "execution_count": null,
      "metadata": {
        "colab": {
          "base_uri": "https://localhost:8080/"
        },
        "id": "oB2pb0u6m4r_",
        "outputId": "22d75331-c1bd-470c-8cbf-9817a1253ddb"
      },
      "outputs": [
        {
          "name": "stderr",
          "output_type": "stream",
          "text": [
            "/usr/local/lib/python3.9/dist-packages/sklearn/cluster/_kmeans.py:870: FutureWarning: The default value of `n_init` will change from 10 to 'auto' in 1.4. Set the value of `n_init` explicitly to suppress the warning\n",
            "  warnings.warn(\n"
          ]
        }
      ],
      "source": [
        "from sklearn.cluster import KMeans\n",
        "from sklearn.feature_extraction.text import CountVectorizer\n",
        "\n",
        "\n",
        "vectorizer = CountVectorizer()\n",
        "X_bow = vectorizer.fit_transform(dataset['Comments'])\n",
        "\n",
        "# Cluster reviews using K-means\n",
        "kmeans = KMeans(n_clusters=3, random_state=42).fit(X_bow)"
      ]
    },
    {
      "cell_type": "code",
      "execution_count": null,
      "metadata": {
        "colab": {
          "base_uri": "https://localhost:8080/"
        },
        "id": "BLQ4UN_qm4sA",
        "outputId": "635d5248-49a1-480f-f75b-e8ea4c1ed9a8"
      },
      "outputs": [
        {
          "name": "stdout",
          "output_type": "stream",
          "text": [
            "Cluster 0:\n",
            " potter\n",
            " harry\n",
            " brokeback\n",
            " mountain\n",
            " love\n",
            " impossible\n",
            " mission\n",
            " movie\n",
            " like\n",
            " hate\n",
            "Cluster 1:\n",
            " harry\n",
            " potter\n",
            " hate\n",
            " potter0i\n",
            " think\n",
            " evil\n",
            " nt\n",
            " people\n",
            " would\n",
            " say\n",
            "Cluster 2:\n",
            " vinci\n",
            " da\n",
            " code\n",
            " awesome\n",
            " suck\n",
            " sucked\n",
            " love\n",
            " much\n",
            " know\n",
            " right\n"
          ]
        }
      ],
      "source": [
        "order_centroids = kmeans.cluster_centers_.argsort()[:, ::-1]\n",
        "terms = vectorizer.get_feature_names_out()\n",
        "for i in range(3):\n",
        "    print(\"Cluster %d:\" % i)\n",
        "    for ind in order_centroids[i, :10]:\n",
        "        print(' %s' % terms[ind])\n",
        "\n",
        "# Assign cluster labels to reviews\n",
        "dataset['cluster'] = kmeans.labels_"
      ]
    },
    {
      "cell_type": "markdown",
      "metadata": {
        "id": "GNt238g6m4sB"
      },
      "source": [
        "## Relevance ranking"
      ]
    },
    {
      "cell_type": "code",
      "execution_count": null,
      "metadata": {
        "id": "PyHZ06IMm4sB"
      },
      "outputs": [],
      "source": [
        "# Create TF-IDF representation\n",
        "vectorizer = TfidfVectorizer()\n",
        "X_tfidf = vectorizer.fit_transform(dataset['Comments'])\n",
        "\n",
        "# Get relevance scores for each review\n",
        "scores = np.asarray(X_tfidf.mean(axis=1)).ravel().tolist()\n",
        "dataset['score'] = scores\n",
        "\n",
        "# Sort reviews by relevance score\n",
        "dataset.sort_values('score', ascending=False, inplace=True)\n",
        "data = dataset.drop('Reviews', axis=1)"
      ]
    },
    {
      "cell_type": "code",
      "execution_count": null,
      "metadata": {
        "colab": {
          "base_uri": "https://localhost:8080/",
          "height": 424
        },
        "id": "fGC-ZKZR_QSw",
        "outputId": "18108ba4-1868-431a-97d8-9466ac6bd796"
      },
      "outputs": [
        {
          "data": {
            "text/html": [
              "\n",
              "  <div id=\"df-2a758532-cbf5-4fe2-8bd2-452ccecc6a27\">\n",
              "    <div class=\"colab-df-container\">\n",
              "      <div>\n",
              "<style scoped>\n",
              "    .dataframe tbody tr th:only-of-type {\n",
              "        vertical-align: middle;\n",
              "    }\n",
              "\n",
              "    .dataframe tbody tr th {\n",
              "        vertical-align: top;\n",
              "    }\n",
              "\n",
              "    .dataframe thead th {\n",
              "        text-align: right;\n",
              "    }\n",
              "</style>\n",
              "<table border=\"1\" class=\"dataframe\">\n",
              "  <thead>\n",
              "    <tr style=\"text-align: right;\">\n",
              "      <th></th>\n",
              "      <th>Comments</th>\n",
              "      <th>cluster</th>\n",
              "      <th>score</th>\n",
              "    </tr>\n",
              "  </thead>\n",
              "  <tbody>\n",
              "    <tr>\n",
              "      <th>5028</th>\n",
              "      <td>favorite attraction reopened friday due stupid...</td>\n",
              "      <td>1</td>\n",
              "      <td>0.004069</td>\n",
              "    </tr>\n",
              "    <tr>\n",
              "      <th>6011</th>\n",
              "      <td>brokeback mountain sucked0i hate brokeback mou...</td>\n",
              "      <td>0</td>\n",
              "      <td>0.003624</td>\n",
              "    </tr>\n",
              "    <tr>\n",
              "      <th>3151</th>\n",
              "      <td>loved brokeback mountain have nt seen crash st...</td>\n",
              "      <td>0</td>\n",
              "      <td>0.003611</td>\n",
              "    </tr>\n",
              "    <tr>\n",
              "      <th>32</th>\n",
              "      <td>people say joe liked da vinci code you re hard...</td>\n",
              "      <td>2</td>\n",
              "      <td>0.003282</td>\n",
              "    </tr>\n",
              "    <tr>\n",
              "      <th>5029</th>\n",
              "      <td>hate harry potter0harry potter suck clit0somet...</td>\n",
              "      <td>0</td>\n",
              "      <td>0.002673</td>\n",
              "    </tr>\n",
              "    <tr>\n",
              "      <th>...</th>\n",
              "      <td>...</td>\n",
              "      <td>...</td>\n",
              "      <td>...</td>\n",
              "    </tr>\n",
              "    <tr>\n",
              "      <th>2060</th>\n",
              "      <td>harry potter gorgeous</td>\n",
              "      <td>0</td>\n",
              "      <td>0.000690</td>\n",
              "    </tr>\n",
              "    <tr>\n",
              "      <th>2131</th>\n",
              "      <td>harry potter gorgeous</td>\n",
              "      <td>0</td>\n",
              "      <td>0.000690</td>\n",
              "    </tr>\n",
              "    <tr>\n",
              "      <th>2136</th>\n",
              "      <td>harry potter gorgeous</td>\n",
              "      <td>0</td>\n",
              "      <td>0.000690</td>\n",
              "    </tr>\n",
              "    <tr>\n",
              "      <th>6106</th>\n",
              "      <td>disliked brokeback mountain</td>\n",
              "      <td>0</td>\n",
              "      <td>0.000690</td>\n",
              "    </tr>\n",
              "    <tr>\n",
              "      <th>2114</th>\n",
              "      <td>harry potter brilliant</td>\n",
              "      <td>0</td>\n",
              "      <td>0.000685</td>\n",
              "    </tr>\n",
              "  </tbody>\n",
              "</table>\n",
              "<p>6918 rows × 3 columns</p>\n",
              "</div>\n",
              "      <button class=\"colab-df-convert\" onclick=\"convertToInteractive('df-2a758532-cbf5-4fe2-8bd2-452ccecc6a27')\"\n",
              "              title=\"Convert this dataframe to an interactive table.\"\n",
              "              style=\"display:none;\">\n",
              "        \n",
              "  <svg xmlns=\"http://www.w3.org/2000/svg\" height=\"24px\"viewBox=\"0 0 24 24\"\n",
              "       width=\"24px\">\n",
              "    <path d=\"M0 0h24v24H0V0z\" fill=\"none\"/>\n",
              "    <path d=\"M18.56 5.44l.94 2.06.94-2.06 2.06-.94-2.06-.94-.94-2.06-.94 2.06-2.06.94zm-11 1L8.5 8.5l.94-2.06 2.06-.94-2.06-.94L8.5 2.5l-.94 2.06-2.06.94zm10 10l.94 2.06.94-2.06 2.06-.94-2.06-.94-.94-2.06-.94 2.06-2.06.94z\"/><path d=\"M17.41 7.96l-1.37-1.37c-.4-.4-.92-.59-1.43-.59-.52 0-1.04.2-1.43.59L10.3 9.45l-7.72 7.72c-.78.78-.78 2.05 0 2.83L4 21.41c.39.39.9.59 1.41.59.51 0 1.02-.2 1.41-.59l7.78-7.78 2.81-2.81c.8-.78.8-2.07 0-2.86zM5.41 20L4 18.59l7.72-7.72 1.47 1.35L5.41 20z\"/>\n",
              "  </svg>\n",
              "      </button>\n",
              "      \n",
              "  <style>\n",
              "    .colab-df-container {\n",
              "      display:flex;\n",
              "      flex-wrap:wrap;\n",
              "      gap: 12px;\n",
              "    }\n",
              "\n",
              "    .colab-df-convert {\n",
              "      background-color: #E8F0FE;\n",
              "      border: none;\n",
              "      border-radius: 50%;\n",
              "      cursor: pointer;\n",
              "      display: none;\n",
              "      fill: #1967D2;\n",
              "      height: 32px;\n",
              "      padding: 0 0 0 0;\n",
              "      width: 32px;\n",
              "    }\n",
              "\n",
              "    .colab-df-convert:hover {\n",
              "      background-color: #E2EBFA;\n",
              "      box-shadow: 0px 1px 2px rgba(60, 64, 67, 0.3), 0px 1px 3px 1px rgba(60, 64, 67, 0.15);\n",
              "      fill: #174EA6;\n",
              "    }\n",
              "\n",
              "    [theme=dark] .colab-df-convert {\n",
              "      background-color: #3B4455;\n",
              "      fill: #D2E3FC;\n",
              "    }\n",
              "\n",
              "    [theme=dark] .colab-df-convert:hover {\n",
              "      background-color: #434B5C;\n",
              "      box-shadow: 0px 1px 3px 1px rgba(0, 0, 0, 0.15);\n",
              "      filter: drop-shadow(0px 1px 2px rgba(0, 0, 0, 0.3));\n",
              "      fill: #FFFFFF;\n",
              "    }\n",
              "  </style>\n",
              "\n",
              "      <script>\n",
              "        const buttonEl =\n",
              "          document.querySelector('#df-2a758532-cbf5-4fe2-8bd2-452ccecc6a27 button.colab-df-convert');\n",
              "        buttonEl.style.display =\n",
              "          google.colab.kernel.accessAllowed ? 'block' : 'none';\n",
              "\n",
              "        async function convertToInteractive(key) {\n",
              "          const element = document.querySelector('#df-2a758532-cbf5-4fe2-8bd2-452ccecc6a27');\n",
              "          const dataTable =\n",
              "            await google.colab.kernel.invokeFunction('convertToInteractive',\n",
              "                                                     [key], {});\n",
              "          if (!dataTable) return;\n",
              "\n",
              "          const docLinkHtml = 'Like what you see? Visit the ' +\n",
              "            '<a target=\"_blank\" href=https://colab.research.google.com/notebooks/data_table.ipynb>data table notebook</a>'\n",
              "            + ' to learn more about interactive tables.';\n",
              "          element.innerHTML = '';\n",
              "          dataTable['output_type'] = 'display_data';\n",
              "          await google.colab.output.renderOutput(dataTable, element);\n",
              "          const docLink = document.createElement('div');\n",
              "          docLink.innerHTML = docLinkHtml;\n",
              "          element.appendChild(docLink);\n",
              "        }\n",
              "      </script>\n",
              "    </div>\n",
              "  </div>\n",
              "  "
            ],
            "text/plain": [
              "                                               Comments  cluster     score\n",
              "5028  favorite attraction reopened friday due stupid...        1  0.004069\n",
              "6011  brokeback mountain sucked0i hate brokeback mou...        0  0.003624\n",
              "3151  loved brokeback mountain have nt seen crash st...        0  0.003611\n",
              "32    people say joe liked da vinci code you re hard...        2  0.003282\n",
              "5029  hate harry potter0harry potter suck clit0somet...        0  0.002673\n",
              "...                                                 ...      ...       ...\n",
              "2060                              harry potter gorgeous        0  0.000690\n",
              "2131                              harry potter gorgeous        0  0.000690\n",
              "2136                              harry potter gorgeous        0  0.000690\n",
              "6106                        disliked brokeback mountain        0  0.000690\n",
              "2114                             harry potter brilliant        0  0.000685\n",
              "\n",
              "[6918 rows x 3 columns]"
            ]
          },
          "execution_count": 87,
          "metadata": {},
          "output_type": "execute_result"
        }
      ],
      "source": [
        "data"
      ]
    },
    {
      "cell_type": "code",
      "execution_count": null,
      "metadata": {
        "id": "aAsIP5zr6znz"
      },
      "outputs": [],
      "source": [
        "# Map cluster labels to emotions\n",
        "cluster_emotion_map = {\n",
        "    0: 'bad',\n",
        "    1: 'neutral',\n",
        "    2: 'good'\n",
        "}\n",
        "data['emotion'] = data['cluster'].map(cluster_emotion_map)"
      ]
    },
    {
      "cell_type": "code",
      "execution_count": null,
      "metadata": {
        "colab": {
          "base_uri": "https://localhost:8080/",
          "height": 424
        },
        "id": "InkIlxVv7ItO",
        "outputId": "3f4bfd71-f963-447d-d8ea-835b38cb6930"
      },
      "outputs": [
        {
          "data": {
            "text/html": [
              "\n",
              "  <div id=\"df-b19128ac-ba95-409c-b939-580388b19855\">\n",
              "    <div class=\"colab-df-container\">\n",
              "      <div>\n",
              "<style scoped>\n",
              "    .dataframe tbody tr th:only-of-type {\n",
              "        vertical-align: middle;\n",
              "    }\n",
              "\n",
              "    .dataframe tbody tr th {\n",
              "        vertical-align: top;\n",
              "    }\n",
              "\n",
              "    .dataframe thead th {\n",
              "        text-align: right;\n",
              "    }\n",
              "</style>\n",
              "<table border=\"1\" class=\"dataframe\">\n",
              "  <thead>\n",
              "    <tr style=\"text-align: right;\">\n",
              "      <th></th>\n",
              "      <th>Comments</th>\n",
              "      <th>cluster</th>\n",
              "      <th>score</th>\n",
              "      <th>emotion</th>\n",
              "    </tr>\n",
              "  </thead>\n",
              "  <tbody>\n",
              "    <tr>\n",
              "      <th>5028</th>\n",
              "      <td>favorite attraction reopened friday due stupid...</td>\n",
              "      <td>1</td>\n",
              "      <td>0.004069</td>\n",
              "      <td>neutral</td>\n",
              "    </tr>\n",
              "    <tr>\n",
              "      <th>6011</th>\n",
              "      <td>brokeback mountain sucked0i hate brokeback mou...</td>\n",
              "      <td>0</td>\n",
              "      <td>0.003624</td>\n",
              "      <td>bad</td>\n",
              "    </tr>\n",
              "    <tr>\n",
              "      <th>3151</th>\n",
              "      <td>loved brokeback mountain have nt seen crash st...</td>\n",
              "      <td>0</td>\n",
              "      <td>0.003611</td>\n",
              "      <td>bad</td>\n",
              "    </tr>\n",
              "    <tr>\n",
              "      <th>32</th>\n",
              "      <td>people say joe liked da vinci code you re hard...</td>\n",
              "      <td>2</td>\n",
              "      <td>0.003282</td>\n",
              "      <td>good</td>\n",
              "    </tr>\n",
              "    <tr>\n",
              "      <th>5029</th>\n",
              "      <td>hate harry potter0harry potter suck clit0somet...</td>\n",
              "      <td>0</td>\n",
              "      <td>0.002673</td>\n",
              "      <td>bad</td>\n",
              "    </tr>\n",
              "    <tr>\n",
              "      <th>...</th>\n",
              "      <td>...</td>\n",
              "      <td>...</td>\n",
              "      <td>...</td>\n",
              "      <td>...</td>\n",
              "    </tr>\n",
              "    <tr>\n",
              "      <th>2060</th>\n",
              "      <td>harry potter gorgeous</td>\n",
              "      <td>0</td>\n",
              "      <td>0.000690</td>\n",
              "      <td>bad</td>\n",
              "    </tr>\n",
              "    <tr>\n",
              "      <th>2131</th>\n",
              "      <td>harry potter gorgeous</td>\n",
              "      <td>0</td>\n",
              "      <td>0.000690</td>\n",
              "      <td>bad</td>\n",
              "    </tr>\n",
              "    <tr>\n",
              "      <th>2136</th>\n",
              "      <td>harry potter gorgeous</td>\n",
              "      <td>0</td>\n",
              "      <td>0.000690</td>\n",
              "      <td>bad</td>\n",
              "    </tr>\n",
              "    <tr>\n",
              "      <th>6106</th>\n",
              "      <td>disliked brokeback mountain</td>\n",
              "      <td>0</td>\n",
              "      <td>0.000690</td>\n",
              "      <td>bad</td>\n",
              "    </tr>\n",
              "    <tr>\n",
              "      <th>2114</th>\n",
              "      <td>harry potter brilliant</td>\n",
              "      <td>0</td>\n",
              "      <td>0.000685</td>\n",
              "      <td>bad</td>\n",
              "    </tr>\n",
              "  </tbody>\n",
              "</table>\n",
              "<p>6918 rows × 4 columns</p>\n",
              "</div>\n",
              "      <button class=\"colab-df-convert\" onclick=\"convertToInteractive('df-b19128ac-ba95-409c-b939-580388b19855')\"\n",
              "              title=\"Convert this dataframe to an interactive table.\"\n",
              "              style=\"display:none;\">\n",
              "        \n",
              "  <svg xmlns=\"http://www.w3.org/2000/svg\" height=\"24px\"viewBox=\"0 0 24 24\"\n",
              "       width=\"24px\">\n",
              "    <path d=\"M0 0h24v24H0V0z\" fill=\"none\"/>\n",
              "    <path d=\"M18.56 5.44l.94 2.06.94-2.06 2.06-.94-2.06-.94-.94-2.06-.94 2.06-2.06.94zm-11 1L8.5 8.5l.94-2.06 2.06-.94-2.06-.94L8.5 2.5l-.94 2.06-2.06.94zm10 10l.94 2.06.94-2.06 2.06-.94-2.06-.94-.94-2.06-.94 2.06-2.06.94z\"/><path d=\"M17.41 7.96l-1.37-1.37c-.4-.4-.92-.59-1.43-.59-.52 0-1.04.2-1.43.59L10.3 9.45l-7.72 7.72c-.78.78-.78 2.05 0 2.83L4 21.41c.39.39.9.59 1.41.59.51 0 1.02-.2 1.41-.59l7.78-7.78 2.81-2.81c.8-.78.8-2.07 0-2.86zM5.41 20L4 18.59l7.72-7.72 1.47 1.35L5.41 20z\"/>\n",
              "  </svg>\n",
              "      </button>\n",
              "      \n",
              "  <style>\n",
              "    .colab-df-container {\n",
              "      display:flex;\n",
              "      flex-wrap:wrap;\n",
              "      gap: 12px;\n",
              "    }\n",
              "\n",
              "    .colab-df-convert {\n",
              "      background-color: #E8F0FE;\n",
              "      border: none;\n",
              "      border-radius: 50%;\n",
              "      cursor: pointer;\n",
              "      display: none;\n",
              "      fill: #1967D2;\n",
              "      height: 32px;\n",
              "      padding: 0 0 0 0;\n",
              "      width: 32px;\n",
              "    }\n",
              "\n",
              "    .colab-df-convert:hover {\n",
              "      background-color: #E2EBFA;\n",
              "      box-shadow: 0px 1px 2px rgba(60, 64, 67, 0.3), 0px 1px 3px 1px rgba(60, 64, 67, 0.15);\n",
              "      fill: #174EA6;\n",
              "    }\n",
              "\n",
              "    [theme=dark] .colab-df-convert {\n",
              "      background-color: #3B4455;\n",
              "      fill: #D2E3FC;\n",
              "    }\n",
              "\n",
              "    [theme=dark] .colab-df-convert:hover {\n",
              "      background-color: #434B5C;\n",
              "      box-shadow: 0px 1px 3px 1px rgba(0, 0, 0, 0.15);\n",
              "      filter: drop-shadow(0px 1px 2px rgba(0, 0, 0, 0.3));\n",
              "      fill: #FFFFFF;\n",
              "    }\n",
              "  </style>\n",
              "\n",
              "      <script>\n",
              "        const buttonEl =\n",
              "          document.querySelector('#df-b19128ac-ba95-409c-b939-580388b19855 button.colab-df-convert');\n",
              "        buttonEl.style.display =\n",
              "          google.colab.kernel.accessAllowed ? 'block' : 'none';\n",
              "\n",
              "        async function convertToInteractive(key) {\n",
              "          const element = document.querySelector('#df-b19128ac-ba95-409c-b939-580388b19855');\n",
              "          const dataTable =\n",
              "            await google.colab.kernel.invokeFunction('convertToInteractive',\n",
              "                                                     [key], {});\n",
              "          if (!dataTable) return;\n",
              "\n",
              "          const docLinkHtml = 'Like what you see? Visit the ' +\n",
              "            '<a target=\"_blank\" href=https://colab.research.google.com/notebooks/data_table.ipynb>data table notebook</a>'\n",
              "            + ' to learn more about interactive tables.';\n",
              "          element.innerHTML = '';\n",
              "          dataTable['output_type'] = 'display_data';\n",
              "          await google.colab.output.renderOutput(dataTable, element);\n",
              "          const docLink = document.createElement('div');\n",
              "          docLink.innerHTML = docLinkHtml;\n",
              "          element.appendChild(docLink);\n",
              "        }\n",
              "      </script>\n",
              "    </div>\n",
              "  </div>\n",
              "  "
            ],
            "text/plain": [
              "                                               Comments  cluster     score  \\\n",
              "5028  favorite attraction reopened friday due stupid...        1  0.004069   \n",
              "6011  brokeback mountain sucked0i hate brokeback mou...        0  0.003624   \n",
              "3151  loved brokeback mountain have nt seen crash st...        0  0.003611   \n",
              "32    people say joe liked da vinci code you re hard...        2  0.003282   \n",
              "5029  hate harry potter0harry potter suck clit0somet...        0  0.002673   \n",
              "...                                                 ...      ...       ...   \n",
              "2060                              harry potter gorgeous        0  0.000690   \n",
              "2131                              harry potter gorgeous        0  0.000690   \n",
              "2136                              harry potter gorgeous        0  0.000690   \n",
              "6106                        disliked brokeback mountain        0  0.000690   \n",
              "2114                             harry potter brilliant        0  0.000685   \n",
              "\n",
              "      emotion  \n",
              "5028  neutral  \n",
              "6011      bad  \n",
              "3151      bad  \n",
              "32       good  \n",
              "5029      bad  \n",
              "...       ...  \n",
              "2060      bad  \n",
              "2131      bad  \n",
              "2136      bad  \n",
              "6106      bad  \n",
              "2114      bad  \n",
              "\n",
              "[6918 rows x 4 columns]"
            ]
          },
          "execution_count": 91,
          "metadata": {},
          "output_type": "execute_result"
        }
      ],
      "source": [
        "data"
      ]
    }
  ],
  "metadata": {
    "colab": {
      "provenance": []
    },
    "kernelspec": {
      "display_name": "Python 3",
      "language": "python",
      "name": "python3"
    },
    "language_info": {
      "codemirror_mode": {
        "name": "ipython",
        "version": 3
      },
      "file_extension": ".py",
      "mimetype": "text/x-python",
      "name": "python",
      "nbconvert_exporter": "python",
      "pygments_lexer": "ipython3",
      "version": "3.10.6"
    }
  },
  "nbformat": 4,
  "nbformat_minor": 0
}
